{
 "cells": [
  {
   "cell_type": "code",
   "execution_count": null,
   "metadata": {},
   "outputs": [],
   "source": [
    "!python3 -m pip install folium\n",
    "# or\n",
    "!python -m pip install folium"
   ]
  },
  {
   "cell_type": "code",
   "execution_count": null,
   "metadata": {},
   "outputs": [],
   "source": [
    "import sys\n",
    "sys.path.append('..')"
   ]
  },
  {
   "cell_type": "code",
   "execution_count": null,
   "metadata": {},
   "outputs": [],
   "source": [
    "import random\n",
    "import folium\n",
    "import numpy as np\n",
    "from copy import deepcopy\n",
    "\n",
    "from library.solution import Solution\n",
    "from library.problems.data.warehouse_data import customer_locations, delivery_cost"
   ]
  },
  {
   "cell_type": "markdown",
   "metadata": {},
   "source": [
    "## Particle Swarm Optimization (PSO)\n",
    "\n",
    "PSO is a population-based optimization algorithm inspired by the collective behavior of bird flocks, unlike Genetic Algorithms (GAs), which draw from evolutionary theory. In PSO, particles (potential solutions) move through the search space, adjusting their positions based on their own experience and that of the whole swarm. This social interaction guides the swarm toward optimal solutions. Because its inspiration comes from social behavior rather than evolution, PSO is not typically classified under Evolutionary Computation.\n",
    "\n",
    "It is used to optimize continuous optimization problems where individuals can be represented $m$-dimensional arrays."
   ]
  },
  {
   "cell_type": "markdown",
   "metadata": {},
   "source": [
    "### Terminology\n",
    "\n",
    "- **Individuals (particles):**  \n",
    "  Each particle is an $m$-dimensional vector of real numbers: $\\mathbf{x}_i = (x_{i1}, x_{i2}, \\dots, x_{im}) \\in \\mathbb{R}^m$\n",
    "\n",
    "- **Population (swarm):**  \n",
    "  A set of $n$ particles: $\\{\\mathbf{x}_1, \\mathbf{x}_2, \\dots, \\mathbf{x}_n\\}$\n",
    "\n",
    "  Where:  \n",
    "  - $x_i$ is the $i$-th particle of the swarm ($i = 1, \\dots, n$)  \n",
    "  - $x_{ij}$ is the $j$-th component of particle $i$ ($j = 1, \\dots, m$)\n",
    "\n",
    "- **Velocities:**  \n",
    "  Each particle has an associated velocity vector: $\\mathbf{v}_i = (v_{i1}, v_{i2}, \\dots, v_{im}) \\in \\mathbb{R}^m$\n",
    "\n",
    "- **Local best (personal best):**  \n",
    "  The best position ever visited by particle $i$: $\\mathbf{b}_i \\in \\mathbb{R}^m$\n",
    "\n",
    "- **Global best:**  \n",
    "  The best position found by any particle in the swarm: $\\mathbf{g} \\in \\mathbb{R}^m$"
   ]
  },
  {
   "cell_type": "markdown",
   "metadata": {},
   "source": [
    "### Pseudo-code\n",
    "\n",
    "1. **Initialize** particles $\\mathbf{x}_i$ and velocities $\\mathbf{v}_i$ for each particle $i = 1, \\dots, n$:\n",
    "    - Each $\\mathbf{x}_i \\in \\mathbb{R}^m$ is initialized randomly, with each component $\\mathbf{x}_{ij}$ drawn uniformly from the interval $[\\boldsymbol{\\alpha}_i, \\boldsymbol{\\beta}_i]$ for $j = 1, \\dots, m$.\n",
    "    - $\\mathbf{v}_i$ is typically initialized as the zero vector.\n",
    "\n",
    "2. **Set personal bests**:  \n",
    "   $\\mathbf{b}_i \\leftarrow \\mathbf{x}_i$ for all $i = 1, \\dots, n$\n",
    "\n",
    "3. **Set global best**:  \n",
    "   $\\mathbf{g} \\leftarrow \\arg\\min_{\\mathbf{x}_i} f(\\mathbf{x}_i)$ (or $\\arg\\max$, depending on optimization goal)\n",
    "\n",
    "4. **Repeat until termination condition is met**:\n",
    "    - For each particle $i = 1, \\dots, n$:\n",
    "        1. **Update position**:  \n",
    "           $\\mathbf{x}_i \\leftarrow \\mathbf{x}_i + \\mathbf{v}_i$\n",
    "        2. **Update velocity**:  \n",
    "           $\\mathbf{v}_i \\leftarrow w * \\mathbf{v}_i + c_1 * r_1 \\cdot (\\mathbf{b}_i - \\mathbf{x}_i) + c_2 * r_2 \\cdot (\\mathbf{g} - \\mathbf{x}_i)$  \n",
    "           where:\n",
    "           - $w$ is the inertia weight  \n",
    "           - $c_1$, $c_2$ are acceleration coefficients  \n",
    "           - $\\mathbf{r}_1, \\mathbf{r}_2 \\in \\mathbb{R}^m$ are random vectors with each component drawn from $[0, 1]$\n",
    "           - $\\cdot$ denotes element-wise (Hadamard) product\n",
    "        3. **Update personal best**:  \n",
    "           If $f(\\mathbf{x}_i) < f(\\mathbf{b}_i)$, then $\\mathbf{b}_i \\leftarrow \\mathbf{x}_i$\n",
    "        4. **Update global best**:  \n",
    "           If $f(\\mathbf{x}_i) < f(\\mathbf{g})$, then $\\mathbf{g} \\leftarrow \\mathbf{x}_i$\n",
    "\n",
    "5. **Return global best** $\\mathbf{g}$\n",
    "\n",
    "\n",
    "#### High-level intuition\n",
    "\n",
    "Each particle represents a point in an $m$-dimensional space and has a velocity vector that dictates its movement. At every iteration, a particle updates its position based on its current velocity, and its velocity is updated according to three main influences:\n",
    "\n",
    "$\\mathbf{v}_i \\leftarrow w \\cdot \\mathbf{v}_i + c_1 * r_1 \\cdot (\\mathbf{b}_i - \\mathbf{x}_i) + c_2 * r_2 \\cdot (\\mathbf{g} - \\mathbf{x}_i)$  \n",
    "\n",
    "\n",
    "Intuition Behind Each Term:\n",
    "- $w * \\mathbf{v}_i$: Keeps some momentum from the previous direction.\n",
    "- $c_1 * \\mathbf{r}_1 \\cdot (\\mathbf{b}_i - \\mathbf{x}_i)$: Pulls the particle toward its own best-known position (individual memory).\n",
    "- $c_2 * \\mathbf{r}_2 \\cdot (\\mathbf{g} - \\mathbf{x}_i)$: Pulls the particle toward the best position found by the entire swarm (collective wisdom).\n",
    "\n",
    "This balance between exploration (inertia and randomness) and exploitation (personal and social bests) drives the swarm to converge toward optimal or near-optimal solutions over time.\n",
    "\n",
    "![image.png](images/pso.png)"
   ]
  },
  {
   "cell_type": "markdown",
   "metadata": {},
   "source": [
    "### Algorithm\n",
    "\n",
    "First let's define the `PSOSolution` class, which extends the `Solution` class by introducing additional attributes during initialization. This is still an abstract class, so every class that inherits from this one (problem-specific classes) will have to implement the `fitness` and `random_initial_representation` methods."
   ]
  },
  {
   "cell_type": "code",
   "execution_count": null,
   "metadata": {},
   "outputs": [],
   "source": [
    "class PSOSolution(Solution):\n",
    "    # TODO\n",
    "    pass"
   ]
  },
  {
   "cell_type": "markdown",
   "metadata": {},
   "source": [
    "Now let's implement the algorithm."
   ]
  },
  {
   "cell_type": "code",
   "execution_count": null,
   "metadata": {},
   "outputs": [],
   "source": [
    "# TODO: Implement the PSO algorithm"
   ]
  },
  {
   "cell_type": "markdown",
   "metadata": {},
   "source": [
    "## Warehouse Location Optimization Problem\n",
    "\n",
    "**Goal:** Find the optimal location for a warehouse that minimizes the total delivery cost to a set of customer locations. \n",
    "\n",
    "\n",
    "Let:\n",
    "\n",
    "- $\\mathbf{x} = [x, y]$: coordinates of the warehouse (decision variables)\n",
    "- $(x_i, y_i)$ for $i=1, \\ldots, n$: coordinates of $n$ customer locations\n",
    "- $c_i$: delivery cost weight for customer $i$\n",
    "\n",
    "We define the cost function as:\n",
    "\n",
    "$f(\\mathbf{x}) = \\sum_{i=1}^n c_i \\cdot \\sqrt{(x - x_i)^2 + (y - y_i)^2}$\n",
    "\n",
    "The goal is to minimize the cost function.\n",
    "\n",
    "Let's start by defining the `WarehousePSOSolution` class.\n"
   ]
  },
  {
   "cell_type": "code",
   "execution_count": null,
   "metadata": {},
   "outputs": [],
   "source": [
    "class WarehousePSOSolution(PSOSolution):\n",
    "    # TODO\n",
    "    pass"
   ]
  },
  {
   "cell_type": "markdown",
   "metadata": {},
   "source": [
    "Let's test it"
   ]
  },
  {
   "cell_type": "code",
   "execution_count": null,
   "metadata": {},
   "outputs": [],
   "source": [
    "solution = WarehousePSOSolution(customer_locations=customer_locations, delivery_cost=delivery_cost)\n",
    "\n",
    "print(f\"Solution: {solution} with fitness {solution.fitness()}\")"
   ]
  },
  {
   "cell_type": "markdown",
   "metadata": {},
   "source": [
    "### Solving the Warehouse Location Problem using PSO"
   ]
  },
  {
   "cell_type": "code",
   "execution_count": null,
   "metadata": {},
   "outputs": [],
   "source": [
    "# TODO: Run PSO to solve the warehouse location problem"
   ]
  },
  {
   "cell_type": "markdown",
   "metadata": {},
   "source": [
    "Now, let’s visualize the customer locations, the final warehouse position, and all the global best solutions identified throughout the search process."
   ]
  },
  {
   "cell_type": "code",
   "execution_count": null,
   "metadata": {},
   "outputs": [],
   "source": [
    "lats, lons = zip(*customer_locations)\n",
    "# Center of the map\n",
    "map_center = [np.mean(lats), np.mean(lons)]\n",
    "\n",
    "# Create the map\n",
    "my_map = folium.Map(location=map_center, zoom_start=12)\n",
    "\n",
    "# Add customer markers\n",
    "for coord in customer_locations:\n",
    "    folium.Marker(location=coord).add_to(my_map)\n",
    "\n",
    "# Add markers for each step in the evolution (except the last)\n",
    "for idx, global_best in enumerate(global_best_history[:-1]):\n",
    "    if (idx == 0) or (np.any(global_best.repr != global_best_history[idx-1].repr)):\n",
    "        folium.Marker(\n",
    "            location=global_best.repr,\n",
    "            popup=f'Warehouse Position #{idx + 1}',\n",
    "            tooltip=f'Step {idx + 1}',\n",
    "            icon=folium.Icon(color=\"gray\", icon=\"building\")\n",
    "        ).add_to(my_map)\n",
    "\n",
    "# Add the final warehouse position with the building icon\n",
    "final_position = global_best_history[-1].repr\n",
    "folium.Marker(\n",
    "    location=final_position,\n",
    "    popup='Final Warehouse Location',\n",
    "    tooltip='Final Position',\n",
    "    icon=folium.Icon(color='red', icon='building', prefix=\"fa\")\n",
    ").add_to(my_map)\n",
    "\n",
    "my_map"
   ]
  }
 ],
 "metadata": {
  "kernelspec": {
   "display_name": "venv",
   "language": "python",
   "name": "python3"
  },
  "language_info": {
   "codemirror_mode": {
    "name": "ipython",
    "version": 3
   },
   "file_extension": ".py",
   "mimetype": "text/x-python",
   "name": "python",
   "nbconvert_exporter": "python",
   "pygments_lexer": "ipython3",
   "version": "3.13.3"
  }
 },
 "nbformat": 4,
 "nbformat_minor": 2
}
